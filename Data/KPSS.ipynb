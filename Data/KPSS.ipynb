{
 "cells": [
  {
   "cell_type": "code",
   "execution_count": null,
   "id": "5c95ebae",
   "metadata": {},
   "outputs": [
    {
     "name": "stdout",
     "output_type": "stream",
     "text": [
      "KPSS Test on Rolling Volatility (Standard Deviation of Returns):\n",
      "Test Statistic: 0.8846447423211382\n",
      "P-value:        0.01\n",
      "Lags Used:      20\n",
      "\n",
      "Critical Values:\n",
      "  10%%: 0.347\n",
      "  5%%: 0.463\n",
      "  2.5%%: 0.574\n",
      "  1%%: 0.739\n",
      "\n",
      "Null hypothesis rejected: The volatility series for the  data is likely non-stationary.\n"
     ]
    },
    {
     "name": "stderr",
     "output_type": "stream",
     "text": [
      "/var/folders/1p/fz7nlz5n43x05ck6k83j31340000gn/T/ipykernel_71448/1856764531.py:13: InterpolationWarning: The test statistic is outside of the range of p-values available in the\n",
      "look-up table. The actual p-value is smaller than the p-value returned.\n",
      "\n",
      "  kpss_stat, p_value, lags, crit_vals = kpss(volatility, regression='c', nlags='auto')\n"
     ]
    }
   ],
   "source": [
    "import pandas as pd\n",
    "import numpy as np\n",
    "from statsmodels.tsa.stattools import kpss\n",
    "\n",
    "df_hourly = pd.read_csv('hourly_data_ff.csv')\n",
    "\n",
    "volatility = df_hourly['vol'].dropna()\n",
    "\n",
    "volatility = volatility.dropna()\n",
    "\n",
    "kpss_stat, p_value, lags, crit_vals = kpss(volatility, regression='c', nlags='auto')\n",
    "\n",
    "print(\"KPSS Test on Rolling Volatility (Standard Deviation of Returns):\")\n",
    "print(f\"Test Statistic: {kpss_stat}\")\n",
    "print(f\"P-value:        {p_value}\")\n",
    "print(f\"Lags Used:      {lags}\\n\")\n",
    "\n",
    "print(\"Critical Values:\")\n",
    "for key, val in crit_vals.items():\n",
    "    print(f\"  {key}%: {val}\")\n",
    "print()\n",
    "\n",
    "if p_value < 0.05:\n",
    "    print(\"Null hypothesis rejected: The volatility series for the  data is likely non-stationary.\")\n",
    "else:\n",
    "    print(\"Failed to reject null hypothesis: The volatility series for the  data is likely stationary.\")"
   ]
  }
 ],
 "metadata": {
  "kernelspec": {
   "display_name": "Python 3",
   "language": "python",
   "name": "python3"
  },
  "language_info": {
   "codemirror_mode": {
    "name": "ipython",
    "version": 3
   },
   "file_extension": ".py",
   "mimetype": "text/x-python",
   "name": "python",
   "nbconvert_exporter": "python",
   "pygments_lexer": "ipython3",
   "version": "3.12.0"
  }
 },
 "nbformat": 4,
 "nbformat_minor": 5
}
