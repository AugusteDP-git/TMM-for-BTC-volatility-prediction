{
 "cells": [
  {
   "cell_type": "code",
   "execution_count": 3,
   "id": "5e39f6a7",
   "metadata": {},
   "outputs": [
    {
     "name": "stdout",
     "output_type": "stream",
     "text": [
      "ADF Test on Daily Volatility:\n",
      "Test Statistic: -5.998187699653054\n",
      "P-value:        1.6818687227046925e-07\n",
      "Lags Used:      23\n",
      "\n",
      "Critical Values:\n",
      "  1%%: -3.432886154825581\n",
      "  5%%: -2.862660475187928\n",
      "  10%%: -2.5673664697163323\n",
      "\n",
      "Null hypothesis rejected: The daily volatility series is likely stationary.\n"
     ]
    }
   ],
   "source": [
    "import pandas as pd\n",
    "from statsmodels.tsa.stattools import adfuller\n",
    "\n",
    "# Chargement des données quotidiennes\n",
    "\n",
    "df_hourly = pd.read_csv('hourly_data_ff.csv')\n",
    "\n",
    "volatility_daily = df_hourly['vol']\n",
    "\n",
    "adf_result_daily = adfuller(volatility_daily)\n",
    "\n",
    "print(\"ADF Test on Daily Volatility:\")\n",
    "print(f\"Test Statistic: {adf_result_daily[0]}\")\n",
    "print(f\"P-value:        {adf_result_daily[1]}\")\n",
    "print(f\"Lags Used:      {adf_result_daily[2]}\")\n",
    "print()\n",
    "\n",
    "print(\"Critical Values:\")\n",
    "for key, value in adf_result_daily[4].items():\n",
    "    print(f\"  {key}%: {value}\")\n",
    "print()\n",
    "\n",
    "if adf_result_daily[1] < 0.01:\n",
    "    print(\"Null hypothesis rejected: The daily volatility series is likely stationary.\")\n",
    "else:\n",
    "    print(\"Failed to reject null hypothesis: The daily volatility series is likely non-stationary.\")"
   ]
  }
 ],
 "metadata": {
  "kernelspec": {
   "display_name": "Python 3",
   "language": "python",
   "name": "python3"
  },
  "language_info": {
   "codemirror_mode": {
    "name": "ipython",
    "version": 3
   },
   "file_extension": ".py",
   "mimetype": "text/x-python",
   "name": "python",
   "nbconvert_exporter": "python",
   "pygments_lexer": "ipython3",
   "version": "3.12.0"
  }
 },
 "nbformat": 4,
 "nbformat_minor": 5
}
