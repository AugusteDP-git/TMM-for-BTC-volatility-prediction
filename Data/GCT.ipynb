{
 "cells": [
  {
   "cell_type": "code",
   "execution_count": 3,
   "id": "3439e2d8",
   "metadata": {},
   "outputs": [],
   "source": [
    "import pandas as pd\n",
    "from statsmodels.tsa.stattools import grangercausalitytests\n",
    "import warnings\n",
    "warnings.filterwarnings(\"ignore\")\n",
    "\n",
    "df = pd.read_csv('hourly_data_ff.csv')\n",
    "\n",
    "max_lag = 30\n",
    "significance_level = 0.05\n",
    "\n",
    "features = df.columns.difference(['vol', 'timestamp'])\n",
    "\n",
    "useful_features = {}\n"
   ]
  },
  {
   "cell_type": "code",
   "execution_count": 4,
   "id": "c773a9b7",
   "metadata": {},
   "outputs": [],
   "source": [
    "signal = df['vol']"
   ]
  },
  {
   "cell_type": "code",
   "execution_count": 5,
   "id": "c68f0b7b",
   "metadata": {},
   "outputs": [
    {
     "name": "stdout",
     "output_type": "stream",
     "text": [
      "\n",
      "Testing Granger causality for feature: ask_depth\n",
      "  Significant lags: [1, 6, 7, 10, 11, 12, 13, 14, 15, 16, 17, 18, 19, 20, 21, 22, 23, 24, 25, 26, 27, 28, 29, 30]\n",
      "\n",
      "Testing Granger causality for feature: ask_slope\n",
      "  No significant lags\n",
      "\n",
      "Testing Granger causality for feature: ask_volume\n",
      "  No significant lags\n",
      "\n",
      "Testing Granger causality for feature: bid_depth\n",
      "  Significant lags: [1, 2, 3, 4, 5, 6, 7, 8, 9]\n",
      "\n",
      "Testing Granger causality for feature: bid_slope\n",
      "  No significant lags\n",
      "\n",
      "Testing Granger causality for feature: bid_volume\n",
      "  Significant lags: [4, 5, 6, 7, 8, 9, 10, 11, 12, 13, 14, 15, 16, 17, 18, 19, 20, 21, 22, 23, 24, 25, 26, 27, 28, 29, 30]\n",
      "\n",
      "Testing Granger causality for feature: difference\n",
      "  No significant lags\n",
      "\n",
      "Testing Granger causality for feature: spread\n",
      "  Significant lags: [1, 2, 3, 4, 5, 6, 7, 8]\n",
      "\n",
      "Testing Granger causality for feature: volume_difference\n",
      "  Significant lags: [4, 5, 6, 7, 8, 9, 10, 11, 12, 13, 14, 15, 16, 17, 18, 19, 20, 21, 22, 23, 24, 25, 26, 27, 28, 29, 30]\n",
      "\n",
      "Testing Granger causality for feature: weighted_spread\n",
      "  No significant lags\n"
     ]
    }
   ],
   "source": [
    "for feature in features:\n",
    "    print(f\"\\nTesting Granger causality for feature: {feature}\")\n",
    "    try:\n",
    "        test_result = grangercausalitytests(df[['vol', feature]].dropna(), maxlag=max_lag, verbose=False)\n",
    "        significant_lags = [\n",
    "            lag for lag in range(1, max_lag + 1)\n",
    "            if test_result[lag][0]['ssr_ftest'][1] < significance_level\n",
    "        ]\n",
    "        if significant_lags:\n",
    "            useful_features[feature] = significant_lags\n",
    "            print(f\"  Significant lags: {significant_lags}\")\n",
    "        else:\n",
    "            print(\"  No significant lags\")\n",
    "    except Exception as e:\n",
    "        print(f\"  Error testing feature {feature}: {e}\")"
   ]
  },
  {
   "cell_type": "code",
   "execution_count": 6,
   "id": "bbf39819",
   "metadata": {},
   "outputs": [
    {
     "name": "stdout",
     "output_type": "stream",
     "text": [
      "ask_depth: lags [1, 6, 7, 10, 11, 12, 13, 14, 15, 16, 17, 18, 19, 20, 21, 22, 23, 24, 25, 26, 27, 28, 29, 30]\n",
      "bid_depth: lags [1, 2, 3, 4, 5, 6, 7, 8, 9]\n",
      "bid_volume: lags [4, 5, 6, 7, 8, 9, 10, 11, 12, 13, 14, 15, 16, 17, 18, 19, 20, 21, 22, 23, 24, 25, 26, 27, 28, 29, 30]\n",
      "spread: lags [1, 2, 3, 4, 5, 6, 7, 8]\n",
      "volume_difference: lags [4, 5, 6, 7, 8, 9, 10, 11, 12, 13, 14, 15, 16, 17, 18, 19, 20, 21, 22, 23, 24, 25, 26, 27, 28, 29, 30]\n"
     ]
    }
   ],
   "source": [
    "for feat, lags in useful_features.items():\n",
    "    print(f\"{feat}: lags {lags}\")"
   ]
  },
  {
   "cell_type": "code",
   "execution_count": 7,
   "id": "bf630861",
   "metadata": {},
   "outputs": [],
   "source": [
    "sent = pd.read_csv('sentiment.csv')\n",
    "sentiment = sent['Aggregate sentiment'].values"
   ]
  },
  {
   "cell_type": "code",
   "execution_count": 8,
   "id": "e1cb0e82",
   "metadata": {},
   "outputs": [
    {
     "name": "stdout",
     "output_type": "stream",
     "text": [
      "\n",
      "Testing Granger causality between Aggregate sentiment and volatility:\n",
      "Significant lags where Aggregate sentiment Granger-causes volatility: [1, 2]\n",
      "\n",
      "Testing Granger causality between fng_feature and volatility:\n",
      "Significant lags where fng_feature Granger-causes volatility: [1, 2, 3, 4, 5, 6, 7, 8, 18, 19]\n"
     ]
    }
   ],
   "source": [
    "# Granger causality tests: do 'Aggregate sentiment' and 'fng_feature' cause volatility?\n",
    "max_lag = 30\n",
    "\n",
    "# Test using Aggregate sentiment\n",
    "agg_sent_series = pd.Series(sent['Aggregate sentiment'].values, index=df.index[:len(sent)])\n",
    "vol_and_agg = pd.DataFrame({\n",
    "    'vol': df['vol'].iloc[:len(agg_sent_series)],\n",
    "    'agg_sent': agg_sent_series\n",
    "}).dropna()\n",
    "\n",
    "print(\"\\nTesting Granger causality between Aggregate sentiment and volatility:\")\n",
    "try:\n",
    "    agg_test_result = grangercausalitytests(vol_and_agg[['vol', 'agg_sent']], maxlag=max_lag, verbose=False)\n",
    "    agg_significant_lags = [\n",
    "        lag for lag in range(1, max_lag + 1)\n",
    "        if agg_test_result[lag][0]['ssr_ftest'][1] < 0.05\n",
    "    ]\n",
    "    if agg_significant_lags:\n",
    "        print(f\"Significant lags where Aggregate sentiment Granger-causes volatility: {agg_significant_lags}\")\n",
    "    else:\n",
    "        print(\"No significant lags found for Aggregate sentiment causing volatility.\")\n",
    "except Exception as e:\n",
    "    print(f\"Error during Granger causality test for Aggregate sentiment: {e}\")\n",
    "\n",
    "# Test using fng_feature\n",
    "fng_series = pd.Series(sent['fng_feature'].values, index=df.index[:len(sent)])\n",
    "vol_and_fng = pd.DataFrame({\n",
    "    'vol': df['vol'].iloc[:len(fng_series)],\n",
    "    'fng': fng_series\n",
    "}).dropna()\n",
    "\n",
    "print(\"\\nTesting Granger causality between fng_feature and volatility:\")\n",
    "try:\n",
    "    fng_test_result = grangercausalitytests(vol_and_fng[['vol', 'fng']], maxlag=max_lag, verbose=False)\n",
    "    fng_significant_lags = [\n",
    "        lag for lag in range(1, max_lag + 1)\n",
    "        if fng_test_result[lag][0]['ssr_ftest'][1] < 0.05\n",
    "    ]\n",
    "    if fng_significant_lags:\n",
    "        print(f\"Significant lags where fng_feature Granger-causes volatility: {fng_significant_lags}\")\n",
    "    else:\n",
    "        print(\"No significant lags found for fng_feature causing volatility.\")\n",
    "except Exception as e:\n",
    "    print(f\"Error during Granger causality test for fng_feature: {e}\")"
   ]
  }
 ],
 "metadata": {
  "kernelspec": {
   "display_name": "Python 3",
   "language": "python",
   "name": "python3"
  },
  "language_info": {
   "codemirror_mode": {
    "name": "ipython",
    "version": 3
   },
   "file_extension": ".py",
   "mimetype": "text/x-python",
   "name": "python",
   "nbconvert_exporter": "python",
   "pygments_lexer": "ipython3",
   "version": "3.12.0"
  }
 },
 "nbformat": 4,
 "nbformat_minor": 5
}
