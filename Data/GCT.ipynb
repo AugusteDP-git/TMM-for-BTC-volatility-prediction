{
 "cells": [
  {
   "cell_type": "code",
   "execution_count": 14,
   "id": "3439e2d8",
   "metadata": {},
   "outputs": [],
   "source": [
    "import pandas as pd\n",
    "from statsmodels.tsa.stattools import grangercausalitytests\n",
    "import warnings\n",
    "warnings.filterwarnings(\"ignore\")\n",
    "\n",
    "df = pd.read_csv('hourly_data_ff.csv')\n",
    "\n",
    "max_lag = 30\n",
    "significance_level = 0.05\n",
    "\n",
    "features = df.columns.difference(['vol', 'timestamp'])\n",
    "\n",
    "useful_features = {}\n"
   ]
  },
  {
   "cell_type": "code",
   "execution_count": 46,
   "id": "c773a9b7",
   "metadata": {},
   "outputs": [],
   "source": [
    "signal = df['vol']"
   ]
  },
  {
   "cell_type": "code",
   "execution_count": 2,
   "id": "c68f0b7b",
   "metadata": {},
   "outputs": [
    {
     "name": "stdout",
     "output_type": "stream",
     "text": [
      "\n",
      "Testing Granger causality for feature: ask_depth\n",
      "  Significant lags: [1, 6, 7, 10, 11, 12, 13, 14, 15, 16, 17, 18, 19, 20, 21, 22, 23, 24, 25, 26, 27, 28, 29, 30]\n",
      "\n",
      "Testing Granger causality for feature: ask_slope\n",
      "  No significant lags\n",
      "\n",
      "Testing Granger causality for feature: ask_volume\n",
      "  No significant lags\n",
      "\n",
      "Testing Granger causality for feature: bid_depth\n",
      "  Significant lags: [1, 2, 3, 4, 5, 6, 7, 8, 9]\n",
      "\n",
      "Testing Granger causality for feature: bid_slope\n",
      "  No significant lags\n",
      "\n",
      "Testing Granger causality for feature: bid_volume\n",
      "  Significant lags: [4, 5, 6, 7, 8, 9, 10, 11, 12, 13, 14, 15, 16, 17, 18, 19, 20, 21, 22, 23, 24, 25, 26, 27, 28, 29, 30]\n",
      "\n",
      "Testing Granger causality for feature: difference\n",
      "  No significant lags\n",
      "\n",
      "Testing Granger causality for feature: spread\n",
      "  Significant lags: [1, 2, 3, 4, 5, 6, 7, 8]\n",
      "\n",
      "Testing Granger causality for feature: volume_difference\n",
      "  Significant lags: [4, 5, 6, 7, 8, 9, 10, 11, 12, 13, 14, 15, 16, 17, 18, 19, 20, 21, 22, 23, 24, 25, 26, 27, 28, 29, 30]\n",
      "\n",
      "Testing Granger causality for feature: weighted_spread\n",
      "  No significant lags\n"
     ]
    }
   ],
   "source": [
    "for feature in features:\n",
    "    print(f\"\\nTesting Granger causality for feature: {feature}\")\n",
    "    try:\n",
    "        test_result = grangercausalitytests(df[['vol', feature]].dropna(), maxlag=max_lag, verbose=False)\n",
    "        significant_lags = [\n",
    "            lag for lag in range(1, max_lag + 1)\n",
    "            if test_result[lag][0]['ssr_ftest'][1] < significance_level\n",
    "        ]\n",
    "        if significant_lags:\n",
    "            useful_features[feature] = significant_lags\n",
    "            print(f\"  Significant lags: {significant_lags}\")\n",
    "        else:\n",
    "            print(\"  No significant lags\")\n",
    "    except Exception as e:\n",
    "        print(f\"  Error testing feature {feature}: {e}\")"
   ]
  },
  {
   "cell_type": "code",
   "execution_count": 3,
   "id": "bbf39819",
   "metadata": {},
   "outputs": [
    {
     "name": "stdout",
     "output_type": "stream",
     "text": [
      "ask_depth: lags [1, 6, 7, 10, 11, 12, 13, 14, 15, 16, 17, 18, 19, 20, 21, 22, 23, 24, 25, 26, 27, 28, 29, 30]\n",
      "bid_depth: lags [1, 2, 3, 4, 5, 6, 7, 8, 9]\n",
      "bid_volume: lags [4, 5, 6, 7, 8, 9, 10, 11, 12, 13, 14, 15, 16, 17, 18, 19, 20, 21, 22, 23, 24, 25, 26, 27, 28, 29, 30]\n",
      "spread: lags [1, 2, 3, 4, 5, 6, 7, 8]\n",
      "volume_difference: lags [4, 5, 6, 7, 8, 9, 10, 11, 12, 13, 14, 15, 16, 17, 18, 19, 20, 21, 22, 23, 24, 25, 26, 27, 28, 29, 30]\n"
     ]
    }
   ],
   "source": [
    "for feat, lags in useful_features.items():\n",
    "    print(f\"{feat}: lags {lags}\")"
   ]
  },
  {
   "cell_type": "code",
   "execution_count": 5,
   "id": "bf630861",
   "metadata": {},
   "outputs": [],
   "source": [
    "sent = pd.read_csv('sentiment.csv')\n",
    "sentiment = sent['Aggregate sentiment'].values"
   ]
  },
  {
   "cell_type": "code",
   "execution_count": 7,
   "id": "f831c530",
   "metadata": {},
   "outputs": [
    {
     "name": "stdout",
     "output_type": "stream",
     "text": [
      "\n",
      "Testing Granger causality between sentiment and volatility:\n",
      "Significant lags where sentiment Granger-causes volatility: [1, 2]\n",
      "Significant lags where sentiment Granger-causes volatility: [1, 2]\n"
     ]
    }
   ],
   "source": [
    "# Granger causality test: does sentiment cause volatility?\n",
    "max_lag = 30\n",
    "sentiment_series = pd.Series(sentiment, index=df.index[:len(sentiment)])\n",
    "\n",
    "# Ensure both series are the same length and drop NaNs\n",
    "vol_and_sent = pd.DataFrame({\n",
    "    'vol': df['vol'].iloc[:len(sentiment_series)],\n",
    "    'sentiment': sentiment_series\n",
    "}).dropna()\n",
    "\n",
    "print(\"\\nTesting Granger causality between sentiment and volatility:\")\n",
    "try:\n",
    "    test_result = grangercausalitytests(vol_and_sent[['vol', 'sentiment']], maxlag=max_lag, verbose=False)\n",
    "    significant_lags = [\n",
    "        lag for lag in range(1, max_lag + 1)\n",
    "        if test_result[lag][0]['ssr_ftest'][1] < 0.05\n",
    "    ]\n",
    "    if significant_lags:\n",
    "        print(f\"Significant lags where sentiment Granger-causes volatility: {significant_lags}\")\n",
    "    else:\n",
    "        print(\"No significant lags found for sentiment causing volatility.\")\n",
    "except Exception as e:\n",
    "    print(f\"Error during Granger causality test: {e}\")"
   ]
  }
 ],
 "metadata": {
  "kernelspec": {
   "display_name": "Python 3",
   "language": "python",
   "name": "python3"
  },
  "language_info": {
   "codemirror_mode": {
    "name": "ipython",
    "version": 3
   },
   "file_extension": ".py",
   "mimetype": "text/x-python",
   "name": "python",
   "nbconvert_exporter": "python",
   "pygments_lexer": "ipython3",
   "version": "3.12.0"
  }
 },
 "nbformat": 4,
 "nbformat_minor": 5
}
